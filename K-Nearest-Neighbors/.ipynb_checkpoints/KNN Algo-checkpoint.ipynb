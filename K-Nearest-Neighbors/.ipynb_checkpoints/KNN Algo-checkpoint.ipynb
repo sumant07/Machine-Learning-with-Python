{
 "cells": [
  {
   "cell_type": "code",
   "execution_count": null,
   "metadata": {},
   "outputs": [],
   "source": [
    "# KNN Algo"
   ]
  },
  {
   "cell_type": "code",
   "execution_count": 1,
   "metadata": {},
   "outputs": [],
   "source": [
    "import numpy as np\n",
    "import pandas as pd\n",
    "import matplotlib.pyplot as plt\n",
    "import seaborn as sns\n",
    "%matplotlib inline"
   ]
  },
  {
   "cell_type": "code",
   "execution_count": 2,
   "metadata": {},
   "outputs": [],
   "source": [
    "df=pd.read_csv(\"Classified Data\")"
   ]
  },
  {
   "cell_type": "code",
   "execution_count": 3,
   "metadata": {},
   "outputs": [
    {
     "name": "stdout",
     "output_type": "stream",
     "text": [
      "<class 'pandas.core.frame.DataFrame'>\n",
      "RangeIndex: 1000 entries, 0 to 999\n",
      "Data columns (total 12 columns):\n",
      "Unnamed: 0      1000 non-null int64\n",
      "WTT             1000 non-null float64\n",
      "PTI             1000 non-null float64\n",
      "EQW             1000 non-null float64\n",
      "SBI             1000 non-null float64\n",
      "LQE             1000 non-null float64\n",
      "QWG             1000 non-null float64\n",
      "FDJ             1000 non-null float64\n",
      "PJF             1000 non-null float64\n",
      "HQE             1000 non-null float64\n",
      "NXJ             1000 non-null float64\n",
      "TARGET CLASS    1000 non-null int64\n",
      "dtypes: float64(10), int64(2)\n",
      "memory usage: 93.8 KB\n"
     ]
    }
   ],
   "source": [
    "df.info()"
   ]
  },
  {
   "cell_type": "code",
   "execution_count": 4,
   "metadata": {},
   "outputs": [
    {
     "data": {
      "text/html": [
       "<div>\n",
       "<style scoped>\n",
       "    .dataframe tbody tr th:only-of-type {\n",
       "        vertical-align: middle;\n",
       "    }\n",
       "\n",
       "    .dataframe tbody tr th {\n",
       "        vertical-align: top;\n",
       "    }\n",
       "\n",
       "    .dataframe thead th {\n",
       "        text-align: right;\n",
       "    }\n",
       "</style>\n",
       "<table border=\"1\" class=\"dataframe\">\n",
       "  <thead>\n",
       "    <tr style=\"text-align: right;\">\n",
       "      <th></th>\n",
       "      <th>Unnamed: 0</th>\n",
       "      <th>WTT</th>\n",
       "      <th>PTI</th>\n",
       "      <th>EQW</th>\n",
       "      <th>SBI</th>\n",
       "      <th>LQE</th>\n",
       "      <th>QWG</th>\n",
       "      <th>FDJ</th>\n",
       "      <th>PJF</th>\n",
       "      <th>HQE</th>\n",
       "      <th>NXJ</th>\n",
       "      <th>TARGET CLASS</th>\n",
       "    </tr>\n",
       "  </thead>\n",
       "  <tbody>\n",
       "    <tr>\n",
       "      <th>0</th>\n",
       "      <td>0</td>\n",
       "      <td>0.913917</td>\n",
       "      <td>1.162073</td>\n",
       "      <td>0.567946</td>\n",
       "      <td>0.755464</td>\n",
       "      <td>0.780862</td>\n",
       "      <td>0.352608</td>\n",
       "      <td>0.759697</td>\n",
       "      <td>0.643798</td>\n",
       "      <td>0.879422</td>\n",
       "      <td>1.231409</td>\n",
       "      <td>1</td>\n",
       "    </tr>\n",
       "    <tr>\n",
       "      <th>1</th>\n",
       "      <td>1</td>\n",
       "      <td>0.635632</td>\n",
       "      <td>1.003722</td>\n",
       "      <td>0.535342</td>\n",
       "      <td>0.825645</td>\n",
       "      <td>0.924109</td>\n",
       "      <td>0.648450</td>\n",
       "      <td>0.675334</td>\n",
       "      <td>1.013546</td>\n",
       "      <td>0.621552</td>\n",
       "      <td>1.492702</td>\n",
       "      <td>0</td>\n",
       "    </tr>\n",
       "    <tr>\n",
       "      <th>2</th>\n",
       "      <td>2</td>\n",
       "      <td>0.721360</td>\n",
       "      <td>1.201493</td>\n",
       "      <td>0.921990</td>\n",
       "      <td>0.855595</td>\n",
       "      <td>1.526629</td>\n",
       "      <td>0.720781</td>\n",
       "      <td>1.626351</td>\n",
       "      <td>1.154483</td>\n",
       "      <td>0.957877</td>\n",
       "      <td>1.285597</td>\n",
       "      <td>0</td>\n",
       "    </tr>\n",
       "    <tr>\n",
       "      <th>3</th>\n",
       "      <td>3</td>\n",
       "      <td>1.234204</td>\n",
       "      <td>1.386726</td>\n",
       "      <td>0.653046</td>\n",
       "      <td>0.825624</td>\n",
       "      <td>1.142504</td>\n",
       "      <td>0.875128</td>\n",
       "      <td>1.409708</td>\n",
       "      <td>1.380003</td>\n",
       "      <td>1.522692</td>\n",
       "      <td>1.153093</td>\n",
       "      <td>1</td>\n",
       "    </tr>\n",
       "    <tr>\n",
       "      <th>4</th>\n",
       "      <td>4</td>\n",
       "      <td>1.279491</td>\n",
       "      <td>0.949750</td>\n",
       "      <td>0.627280</td>\n",
       "      <td>0.668976</td>\n",
       "      <td>1.232537</td>\n",
       "      <td>0.703727</td>\n",
       "      <td>1.115596</td>\n",
       "      <td>0.646691</td>\n",
       "      <td>1.463812</td>\n",
       "      <td>1.419167</td>\n",
       "      <td>1</td>\n",
       "    </tr>\n",
       "  </tbody>\n",
       "</table>\n",
       "</div>"
      ],
      "text/plain": [
       "   Unnamed: 0       WTT       PTI       EQW       SBI       LQE       QWG  \\\n",
       "0           0  0.913917  1.162073  0.567946  0.755464  0.780862  0.352608   \n",
       "1           1  0.635632  1.003722  0.535342  0.825645  0.924109  0.648450   \n",
       "2           2  0.721360  1.201493  0.921990  0.855595  1.526629  0.720781   \n",
       "3           3  1.234204  1.386726  0.653046  0.825624  1.142504  0.875128   \n",
       "4           4  1.279491  0.949750  0.627280  0.668976  1.232537  0.703727   \n",
       "\n",
       "        FDJ       PJF       HQE       NXJ  TARGET CLASS  \n",
       "0  0.759697  0.643798  0.879422  1.231409             1  \n",
       "1  0.675334  1.013546  0.621552  1.492702             0  \n",
       "2  1.626351  1.154483  0.957877  1.285597             0  \n",
       "3  1.409708  1.380003  1.522692  1.153093             1  \n",
       "4  1.115596  0.646691  1.463812  1.419167             1  "
      ]
     },
     "execution_count": 4,
     "metadata": {},
     "output_type": "execute_result"
    }
   ],
   "source": [
    "df.head()"
   ]
  },
  {
   "cell_type": "code",
   "execution_count": 5,
   "metadata": {},
   "outputs": [],
   "source": [
    "df=pd.read_csv(\"Classified Data\",index_col=0)     # Unnamed col. is used as index col. i.e for 0th index for fdataset"
   ]
  },
  {
   "cell_type": "code",
   "execution_count": 6,
   "metadata": {},
   "outputs": [
    {
     "data": {
      "text/html": [
       "<div>\n",
       "<style scoped>\n",
       "    .dataframe tbody tr th:only-of-type {\n",
       "        vertical-align: middle;\n",
       "    }\n",
       "\n",
       "    .dataframe tbody tr th {\n",
       "        vertical-align: top;\n",
       "    }\n",
       "\n",
       "    .dataframe thead th {\n",
       "        text-align: right;\n",
       "    }\n",
       "</style>\n",
       "<table border=\"1\" class=\"dataframe\">\n",
       "  <thead>\n",
       "    <tr style=\"text-align: right;\">\n",
       "      <th></th>\n",
       "      <th>WTT</th>\n",
       "      <th>PTI</th>\n",
       "      <th>EQW</th>\n",
       "      <th>SBI</th>\n",
       "      <th>LQE</th>\n",
       "      <th>QWG</th>\n",
       "      <th>FDJ</th>\n",
       "      <th>PJF</th>\n",
       "      <th>HQE</th>\n",
       "      <th>NXJ</th>\n",
       "      <th>TARGET CLASS</th>\n",
       "    </tr>\n",
       "  </thead>\n",
       "  <tbody>\n",
       "    <tr>\n",
       "      <th>0</th>\n",
       "      <td>0.913917</td>\n",
       "      <td>1.162073</td>\n",
       "      <td>0.567946</td>\n",
       "      <td>0.755464</td>\n",
       "      <td>0.780862</td>\n",
       "      <td>0.352608</td>\n",
       "      <td>0.759697</td>\n",
       "      <td>0.643798</td>\n",
       "      <td>0.879422</td>\n",
       "      <td>1.231409</td>\n",
       "      <td>1</td>\n",
       "    </tr>\n",
       "    <tr>\n",
       "      <th>1</th>\n",
       "      <td>0.635632</td>\n",
       "      <td>1.003722</td>\n",
       "      <td>0.535342</td>\n",
       "      <td>0.825645</td>\n",
       "      <td>0.924109</td>\n",
       "      <td>0.648450</td>\n",
       "      <td>0.675334</td>\n",
       "      <td>1.013546</td>\n",
       "      <td>0.621552</td>\n",
       "      <td>1.492702</td>\n",
       "      <td>0</td>\n",
       "    </tr>\n",
       "    <tr>\n",
       "      <th>2</th>\n",
       "      <td>0.721360</td>\n",
       "      <td>1.201493</td>\n",
       "      <td>0.921990</td>\n",
       "      <td>0.855595</td>\n",
       "      <td>1.526629</td>\n",
       "      <td>0.720781</td>\n",
       "      <td>1.626351</td>\n",
       "      <td>1.154483</td>\n",
       "      <td>0.957877</td>\n",
       "      <td>1.285597</td>\n",
       "      <td>0</td>\n",
       "    </tr>\n",
       "    <tr>\n",
       "      <th>3</th>\n",
       "      <td>1.234204</td>\n",
       "      <td>1.386726</td>\n",
       "      <td>0.653046</td>\n",
       "      <td>0.825624</td>\n",
       "      <td>1.142504</td>\n",
       "      <td>0.875128</td>\n",
       "      <td>1.409708</td>\n",
       "      <td>1.380003</td>\n",
       "      <td>1.522692</td>\n",
       "      <td>1.153093</td>\n",
       "      <td>1</td>\n",
       "    </tr>\n",
       "    <tr>\n",
       "      <th>4</th>\n",
       "      <td>1.279491</td>\n",
       "      <td>0.949750</td>\n",
       "      <td>0.627280</td>\n",
       "      <td>0.668976</td>\n",
       "      <td>1.232537</td>\n",
       "      <td>0.703727</td>\n",
       "      <td>1.115596</td>\n",
       "      <td>0.646691</td>\n",
       "      <td>1.463812</td>\n",
       "      <td>1.419167</td>\n",
       "      <td>1</td>\n",
       "    </tr>\n",
       "  </tbody>\n",
       "</table>\n",
       "</div>"
      ],
      "text/plain": [
       "        WTT       PTI       EQW       SBI       LQE       QWG       FDJ  \\\n",
       "0  0.913917  1.162073  0.567946  0.755464  0.780862  0.352608  0.759697   \n",
       "1  0.635632  1.003722  0.535342  0.825645  0.924109  0.648450  0.675334   \n",
       "2  0.721360  1.201493  0.921990  0.855595  1.526629  0.720781  1.626351   \n",
       "3  1.234204  1.386726  0.653046  0.825624  1.142504  0.875128  1.409708   \n",
       "4  1.279491  0.949750  0.627280  0.668976  1.232537  0.703727  1.115596   \n",
       "\n",
       "        PJF       HQE       NXJ  TARGET CLASS  \n",
       "0  0.643798  0.879422  1.231409             1  \n",
       "1  1.013546  0.621552  1.492702             0  \n",
       "2  1.154483  0.957877  1.285597             0  \n",
       "3  1.380003  1.522692  1.153093             1  \n",
       "4  0.646691  1.463812  1.419167             1  "
      ]
     },
     "execution_count": 6,
     "metadata": {},
     "output_type": "execute_result"
    }
   ],
   "source": [
    "df.head()"
   ]
  },
  {
   "cell_type": "code",
   "execution_count": 7,
   "metadata": {},
   "outputs": [
    {
     "data": {
      "text/html": [
       "<div>\n",
       "<style scoped>\n",
       "    .dataframe tbody tr th:only-of-type {\n",
       "        vertical-align: middle;\n",
       "    }\n",
       "\n",
       "    .dataframe tbody tr th {\n",
       "        vertical-align: top;\n",
       "    }\n",
       "\n",
       "    .dataframe thead th {\n",
       "        text-align: right;\n",
       "    }\n",
       "</style>\n",
       "<table border=\"1\" class=\"dataframe\">\n",
       "  <thead>\n",
       "    <tr style=\"text-align: right;\">\n",
       "      <th></th>\n",
       "      <th>WTT</th>\n",
       "      <th>PTI</th>\n",
       "      <th>EQW</th>\n",
       "      <th>SBI</th>\n",
       "      <th>LQE</th>\n",
       "      <th>QWG</th>\n",
       "      <th>FDJ</th>\n",
       "      <th>PJF</th>\n",
       "      <th>HQE</th>\n",
       "      <th>NXJ</th>\n",
       "      <th>TARGET CLASS</th>\n",
       "    </tr>\n",
       "  </thead>\n",
       "  <tbody>\n",
       "    <tr>\n",
       "      <th>WTT</th>\n",
       "      <td>1.000000</td>\n",
       "      <td>-0.235255</td>\n",
       "      <td>-0.301018</td>\n",
       "      <td>-0.101517</td>\n",
       "      <td>-0.083401</td>\n",
       "      <td>-0.183628</td>\n",
       "      <td>-0.148100</td>\n",
       "      <td>-0.330977</td>\n",
       "      <td>0.324981</td>\n",
       "      <td>-0.073889</td>\n",
       "      <td>0.551394</td>\n",
       "    </tr>\n",
       "    <tr>\n",
       "      <th>PTI</th>\n",
       "      <td>-0.235255</td>\n",
       "      <td>1.000000</td>\n",
       "      <td>0.271908</td>\n",
       "      <td>0.001580</td>\n",
       "      <td>0.097322</td>\n",
       "      <td>0.173701</td>\n",
       "      <td>0.095060</td>\n",
       "      <td>0.246387</td>\n",
       "      <td>-0.266242</td>\n",
       "      <td>0.035834</td>\n",
       "      <td>-0.468748</td>\n",
       "    </tr>\n",
       "    <tr>\n",
       "      <th>EQW</th>\n",
       "      <td>-0.301018</td>\n",
       "      <td>0.271908</td>\n",
       "      <td>1.000000</td>\n",
       "      <td>-0.040291</td>\n",
       "      <td>0.144539</td>\n",
       "      <td>0.182021</td>\n",
       "      <td>0.059533</td>\n",
       "      <td>0.323857</td>\n",
       "      <td>-0.324656</td>\n",
       "      <td>0.126143</td>\n",
       "      <td>-0.598120</td>\n",
       "    </tr>\n",
       "    <tr>\n",
       "      <th>SBI</th>\n",
       "      <td>-0.101517</td>\n",
       "      <td>0.001580</td>\n",
       "      <td>-0.040291</td>\n",
       "      <td>1.000000</td>\n",
       "      <td>-0.007983</td>\n",
       "      <td>0.022026</td>\n",
       "      <td>-0.007666</td>\n",
       "      <td>0.037767</td>\n",
       "      <td>0.078032</td>\n",
       "      <td>0.145045</td>\n",
       "      <td>0.028874</td>\n",
       "    </tr>\n",
       "    <tr>\n",
       "      <th>LQE</th>\n",
       "      <td>-0.083401</td>\n",
       "      <td>0.097322</td>\n",
       "      <td>0.144539</td>\n",
       "      <td>-0.007983</td>\n",
       "      <td>1.000000</td>\n",
       "      <td>0.049944</td>\n",
       "      <td>0.035750</td>\n",
       "      <td>0.083734</td>\n",
       "      <td>-0.143929</td>\n",
       "      <td>0.044496</td>\n",
       "      <td>-0.205043</td>\n",
       "    </tr>\n",
       "    <tr>\n",
       "      <th>QWG</th>\n",
       "      <td>-0.183628</td>\n",
       "      <td>0.173701</td>\n",
       "      <td>0.182021</td>\n",
       "      <td>0.022026</td>\n",
       "      <td>0.049944</td>\n",
       "      <td>1.000000</td>\n",
       "      <td>0.098062</td>\n",
       "      <td>0.199189</td>\n",
       "      <td>-0.181809</td>\n",
       "      <td>0.036078</td>\n",
       "      <td>-0.327664</td>\n",
       "    </tr>\n",
       "    <tr>\n",
       "      <th>FDJ</th>\n",
       "      <td>-0.148100</td>\n",
       "      <td>0.095060</td>\n",
       "      <td>0.059533</td>\n",
       "      <td>-0.007666</td>\n",
       "      <td>0.035750</td>\n",
       "      <td>0.098062</td>\n",
       "      <td>1.000000</td>\n",
       "      <td>0.122888</td>\n",
       "      <td>-0.116969</td>\n",
       "      <td>-0.012923</td>\n",
       "      <td>-0.214885</td>\n",
       "    </tr>\n",
       "    <tr>\n",
       "      <th>PJF</th>\n",
       "      <td>-0.330977</td>\n",
       "      <td>0.246387</td>\n",
       "      <td>0.323857</td>\n",
       "      <td>0.037767</td>\n",
       "      <td>0.083734</td>\n",
       "      <td>0.199189</td>\n",
       "      <td>0.122888</td>\n",
       "      <td>1.000000</td>\n",
       "      <td>-0.363736</td>\n",
       "      <td>0.028012</td>\n",
       "      <td>-0.571483</td>\n",
       "    </tr>\n",
       "    <tr>\n",
       "      <th>HQE</th>\n",
       "      <td>0.324981</td>\n",
       "      <td>-0.266242</td>\n",
       "      <td>-0.324656</td>\n",
       "      <td>0.078032</td>\n",
       "      <td>-0.143929</td>\n",
       "      <td>-0.181809</td>\n",
       "      <td>-0.116969</td>\n",
       "      <td>-0.363736</td>\n",
       "      <td>1.000000</td>\n",
       "      <td>-0.129283</td>\n",
       "      <td>0.643989</td>\n",
       "    </tr>\n",
       "    <tr>\n",
       "      <th>NXJ</th>\n",
       "      <td>-0.073889</td>\n",
       "      <td>0.035834</td>\n",
       "      <td>0.126143</td>\n",
       "      <td>0.145045</td>\n",
       "      <td>0.044496</td>\n",
       "      <td>0.036078</td>\n",
       "      <td>-0.012923</td>\n",
       "      <td>0.028012</td>\n",
       "      <td>-0.129283</td>\n",
       "      <td>1.000000</td>\n",
       "      <td>-0.111730</td>\n",
       "    </tr>\n",
       "    <tr>\n",
       "      <th>TARGET CLASS</th>\n",
       "      <td>0.551394</td>\n",
       "      <td>-0.468748</td>\n",
       "      <td>-0.598120</td>\n",
       "      <td>0.028874</td>\n",
       "      <td>-0.205043</td>\n",
       "      <td>-0.327664</td>\n",
       "      <td>-0.214885</td>\n",
       "      <td>-0.571483</td>\n",
       "      <td>0.643989</td>\n",
       "      <td>-0.111730</td>\n",
       "      <td>1.000000</td>\n",
       "    </tr>\n",
       "  </tbody>\n",
       "</table>\n",
       "</div>"
      ],
      "text/plain": [
       "                   WTT       PTI       EQW       SBI       LQE       QWG  \\\n",
       "WTT           1.000000 -0.235255 -0.301018 -0.101517 -0.083401 -0.183628   \n",
       "PTI          -0.235255  1.000000  0.271908  0.001580  0.097322  0.173701   \n",
       "EQW          -0.301018  0.271908  1.000000 -0.040291  0.144539  0.182021   \n",
       "SBI          -0.101517  0.001580 -0.040291  1.000000 -0.007983  0.022026   \n",
       "LQE          -0.083401  0.097322  0.144539 -0.007983  1.000000  0.049944   \n",
       "QWG          -0.183628  0.173701  0.182021  0.022026  0.049944  1.000000   \n",
       "FDJ          -0.148100  0.095060  0.059533 -0.007666  0.035750  0.098062   \n",
       "PJF          -0.330977  0.246387  0.323857  0.037767  0.083734  0.199189   \n",
       "HQE           0.324981 -0.266242 -0.324656  0.078032 -0.143929 -0.181809   \n",
       "NXJ          -0.073889  0.035834  0.126143  0.145045  0.044496  0.036078   \n",
       "TARGET CLASS  0.551394 -0.468748 -0.598120  0.028874 -0.205043 -0.327664   \n",
       "\n",
       "                   FDJ       PJF       HQE       NXJ  TARGET CLASS  \n",
       "WTT          -0.148100 -0.330977  0.324981 -0.073889      0.551394  \n",
       "PTI           0.095060  0.246387 -0.266242  0.035834     -0.468748  \n",
       "EQW           0.059533  0.323857 -0.324656  0.126143     -0.598120  \n",
       "SBI          -0.007666  0.037767  0.078032  0.145045      0.028874  \n",
       "LQE           0.035750  0.083734 -0.143929  0.044496     -0.205043  \n",
       "QWG           0.098062  0.199189 -0.181809  0.036078     -0.327664  \n",
       "FDJ           1.000000  0.122888 -0.116969 -0.012923     -0.214885  \n",
       "PJF           0.122888  1.000000 -0.363736  0.028012     -0.571483  \n",
       "HQE          -0.116969 -0.363736  1.000000 -0.129283      0.643989  \n",
       "NXJ          -0.012923  0.028012 -0.129283  1.000000     -0.111730  \n",
       "TARGET CLASS -0.214885 -0.571483  0.643989 -0.111730      1.000000  "
      ]
     },
     "execution_count": 7,
     "metadata": {},
     "output_type": "execute_result"
    }
   ],
   "source": [
    "df.corr()"
   ]
  },
  {
   "cell_type": "code",
   "execution_count": 8,
   "metadata": {},
   "outputs": [
    {
     "data": {
      "text/plain": [
       "<matplotlib.axes._subplots.AxesSubplot at 0x23d9682de80>"
      ]
     },
     "execution_count": 8,
     "metadata": {},
     "output_type": "execute_result"
    },
    {
     "data": {
      "image/png": "[encoded data removed]",
      "text/plain": [
       "<Figure size 432x288 with 2 Axes>"
      ]
     },
     "metadata": {
      "needs_background": "light"
     },
     "output_type": "display_data"
    }
   ],
   "source": [
    "sns.heatmap(df.corr(),cmap='coolwarm')"
   ]
  },
  {
   "cell_type": "code",
   "execution_count": 9,
   "metadata": {},
   "outputs": [],
   "source": [
    "df.drop('SBI',axis=1,inplace=True)"
   ]
  },
  {
   "cell_type": "code",
   "execution_count": 10,
   "metadata": {},
   "outputs": [],
   "source": [
    "#KNN is good for scattered dataset"
   ]
  },
  {
   "cell_type": "code",
   "execution_count": 11,
   "metadata": {},
   "outputs": [],
   "source": [
    "X=df.drop('TARGET CLASS', axis=1)"
   ]
  },
  {
   "cell_type": "code",
   "execution_count": 12,
   "metadata": {},
   "outputs": [],
   "source": [
    "y=df['TARGET CLASS']"
   ]
  },
  {
   "cell_type": "code",
   "execution_count": 13,
   "metadata": {},
   "outputs": [],
   "source": [
    "from sklearn.model_selection import train_test_split"
   ]
  },
  {
   "cell_type": "code",
   "execution_count": 14,
   "metadata": {},
   "outputs": [],
   "source": [
    "X_train,X_test,y_train,y_test=train_test_split(X,y,test_size=0.3)"
   ]
  },
  {
   "cell_type": "code",
   "execution_count": 15,
   "metadata": {},
   "outputs": [],
   "source": [
    "from sklearn.neighbors import KNeighborsClassifier"
   ]
  },
  {
   "cell_type": "code",
   "execution_count": 17,
   "metadata": {},
   "outputs": [],
   "source": [
    "error_rate=[]                 # here we are deciding the best value for k so that the error rate is min.\n",
    "for i in range(1,40):\n",
    "    knn= KNeighborsClassifier(n_neighbors=i)\n",
    "    knn.fit(X_train,y_train)\n",
    "    ypred=knn.predict(X_test)\n",
    "    error_rate.append(np.mean(ypred != y_test))"
   ]
  },
  {
   "cell_type": "code",
   "execution_count": 18,
   "metadata": {},
   "outputs": [
    {
     "data": {
      "text/plain": [
       "[<matplotlib.lines.Line2D at 0x23d98a329b0>]"
      ]
     },
     "execution_count": 18,
     "metadata": {},
     "output_type": "execute_result"
    },
    {
     "data": {
      "image/png": "[encoded data removed]",
      "text/plain": [
       "<Figure size 432x288 with 1 Axes>"
      ]
     },
     "metadata": {
      "needs_background": "light"
     },
     "output_type": "display_data"
    }
   ],
   "source": [
    "plt.plot(range(1,40),error_rate)"
   ]
  },
  {
   "cell_type": "code",
   "execution_count": 20,
   "metadata": {},
   "outputs": [],
   "source": [
    "knn=KNeighborsClassifier(n_neighbors=18)     # from plot we can get the value of k ie value which is lowest\n",
    "knn.fit(X_train,y_train)\n",
    "ypred=knn.predict(X_test)\n",
    "error_rate=(np.mean(ypred != y_test))"
   ]
  },
  {
   "cell_type": "code",
   "execution_count": 21,
   "metadata": {},
   "outputs": [
    {
     "data": {
      "text/plain": [
       "0.05333333333333334"
      ]
     },
     "execution_count": 21,
     "metadata": {},
     "output_type": "execute_result"
    }
   ],
   "source": [
    "error_rate"
   ]
  },
  {
   "cell_type": "code",
   "execution_count": 22,
   "metadata": {},
   "outputs": [],
   "source": [
    "from sklearn.metrics import confusion_matrix"
   ]
  },
  {
   "cell_type": "code",
   "execution_count": 23,
   "metadata": {},
   "outputs": [
    {
     "data": {
      "text/plain": [
       "array([[149,   7],\n",
       "       [  9, 135]], dtype=int64)"
      ]
     },
     "execution_count": 23,
     "metadata": {},
     "output_type": "execute_result"
    }
   ],
   "source": [
    "confusion_matrix(y_test,ypred)   # Confusion Matrix"
   ]
  },
  {
   "cell_type": "code",
   "execution_count": null,
   "metadata": {},
   "outputs": [],
   "source": []
  }
 ],
 "metadata": {
  "kernelspec": {
   "display_name": "Python 3",
   "language": "python",
   "name": "python3"
  },
  "language_info": {
   "codemirror_mode": {
    "name": "ipython",
    "version": 3
   },
   "file_extension": ".py",
   "mimetype": "text/x-python",
   "name": "python",
   "nbconvert_exporter": "python",
   "pygments_lexer": "ipython3",
   "version": "3.7.1"
  }
 },
 "nbformat": 4,
 "nbformat_minor": 2
}
